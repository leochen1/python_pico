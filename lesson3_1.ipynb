{
 "cells": [
  {
   "cell_type": "code",
   "execution_count": 4,
   "metadata": {},
   "outputs": [
    {
     "name": "stdout",
     "output_type": "stream",
     "text": [
      "hello world\n"
     ]
    }
   ],
   "source": [
    "print(\"hello world\")"
   ]
  },
  {
   "cell_type": "code",
   "execution_count": 5,
   "metadata": {},
   "outputs": [
    {
     "data": {
      "text/plain": [
       "5.0"
      ]
     },
     "execution_count": 5,
     "metadata": {},
     "output_type": "execute_result"
    }
   ],
   "source": [
    "value1 = 0\n",
    "value1 += 5\n",
    "value1 = 10\n",
    "value1 = 15\n",
    "value1 = 20\n",
    "value1 / 4\n"
   ]
  },
  {
   "cell_type": "code",
   "execution_count": 11,
   "metadata": {},
   "outputs": [
    {
     "name": "stdout",
     "output_type": "stream",
     "text": [
      "[0, 5, 9, 14] mean = 7\n",
      "[5, 6, 8, 9] mean = 7\n",
      "[0, 5, 9, 14] std = 5.94418483337567\n",
      "[5, 6, 8, 9] std = 1.8257418583505538\n"
     ]
    },
    {
     "data": {
      "text/plain": [
       "False"
      ]
     },
     "execution_count": 11,
     "metadata": {},
     "output_type": "execute_result"
    }
   ],
   "source": [
    "import statistics, math\n",
    "\n",
    "mean1 = statistics.mean([0, 5, 9, 14])\n",
    "mean2 = statistics.mean([5, 6, 8, 9])\n",
    "std1 = statistics.stdev([0, 5, 9, 14])\n",
    "std2 = statistics.stdev([5, 6, 8, 9])\n",
    "print(f\"[0, 5, 9, 14] mean = {mean1}\")\n",
    "print(f\"[5, 6, 8, 9] mean = {mean2}\")\n",
    "print(f\"[0, 5, 9, 14] std = {std1}\")\n",
    "print(f\"[5, 6, 8, 9] std = {std2}\")\n",
    "\n",
    "\n"
   ]
  },
  {
   "cell_type": "code",
   "execution_count": 12,
   "metadata": {},
   "outputs": [
    {
     "name": "stdout",
     "output_type": "stream",
     "text": [
      "age = 21\n",
      "You can drink alcohol!\n",
      "Done\n"
     ]
    }
   ],
   "source": [
    "age = 21\n",
    "print(f\"age = {age}\")\n",
    "if age >= 21:\n",
    "    print(\"You can drink alcohol!\")\n",
    "else:\n",
    "    print(\"You cannot drink alcohol!\")\n",
    "print(\"Done\")\n"
   ]
  }
 ],
 "metadata": {
  "kernelspec": {
   "display_name": "Python 3",
   "language": "python",
   "name": "python3"
  },
  "language_info": {
   "codemirror_mode": {
    "name": "ipython",
    "version": 3
   },
   "file_extension": ".py",
   "mimetype": "text/x-python",
   "name": "python",
   "nbconvert_exporter": "python",
   "pygments_lexer": "ipython3",
   "version": "3.10.13"
  }
 },
 "nbformat": 4,
 "nbformat_minor": 2
}
