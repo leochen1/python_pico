{
 "cells": [
  {
   "cell_type": "code",
   "execution_count": 6,
   "metadata": {},
   "outputs": [
    {
     "name": "stdout",
     "output_type": "stream",
     "text": [
      "輸入錯誤\n"
     ]
    }
   ],
   "source": [
    "try:\n",
    "    score = int(input(\"Enter your score: \"))\n",
    "\n",
    "    if score <= 300:\n",
    "        is_add = input(\"是否符合加分條件？(Y/N)\")\n",
    "        # 巢狀判斷\n",
    "        if is_add == \"Y\":\n",
    "            score *= 1.05\n",
    "            if score > 300:\n",
    "                score = 300\n",
    "        print(\"加分後成績為\", score)\n",
    "    else:\n",
    "        print(\"輸入錯誤\")\n",
    "except:\n",
    "    print(\"輸入錯誤\")"
   ]
  },
  {
   "cell_type": "code",
   "execution_count": 5,
   "metadata": {},
   "outputs": [
    {
     "name": "stdout",
     "output_type": "stream",
     "text": [
      "輸入錯誤\n"
     ]
    }
   ],
   "source": [
    "try:\n",
    "    money = int(input(\"請輸入購物金額：\"))\n",
    "    print(\"此次消費金額為\", money, \"元\")\n",
    "except:\n",
    "    print(\"輸入錯誤\")"
   ]
  },
  {
   "cell_type": "code",
   "execution_count": 8,
   "metadata": {},
   "outputs": [
    {
     "name": "stdout",
     "output_type": "stream",
     "text": [
      "此次消費金額為 1 元\n"
     ]
    }
   ],
   "source": [
    "try:\n",
    "    money = int(input(\"請輸入購物金額：\"))\n",
    "except:\n",
    "    print(\"輸入錯誤\")\n",
    "else:\n",
    "    print(\"此次消費金額為\", money, \"元\")"
   ]
  },
  {
   "cell_type": "code",
   "execution_count": 16,
   "metadata": {},
   "outputs": [
    {
     "name": "stdout",
     "output_type": "stream",
     "text": [
      "Enter your score: 100\n",
      "是否符合加分條件？(Y/N)is_add :  yes\n",
      "加分後成績為 100\n"
     ]
    }
   ],
   "source": [
    "import pyinputplus as pyip\n",
    "\n",
    "score = pyip.inputNum(\"Enter your score: \", min=0, max=300)\n",
    "print(score)\n",
    "is_add = pyip.inputYesNo(\"是否符合加分條件？(Y/N)\")\n",
    "print(\"is_add : \", is_add)\n",
    "if is_add == \"yes\":\n",
    "    score *= 1.05\n",
    "    if score > 300:\n",
    "        score = 300\n",
    "print(\"加分後成績為\", score)\n"
   ]
  },
  {
   "cell_type": "code",
   "execution_count": 20,
   "metadata": {},
   "outputs": [
    {
     "name": "stdout",
     "output_type": "stream",
     "text": [
      "請輸入學生分數(0~100)：Number must be at maximum 100.\n",
      "請輸入學生分數(0~100)：不及格\n"
     ]
    }
   ],
   "source": [
    "import pyinputplus as pyip\n",
    "\n",
    "score = pyip.inputInt(prompt=\"請輸入學生分數(0~100)：\", min=0, max=100)\n",
    "\n",
    "if score < 60:\n",
    "    print(\"不及格\")\n",
    "elif score < 80:\n",
    "    \n",
    "    print(\"及格\")\n",
    "else:\n",
    "    print(\"優\")"
   ]
  }
 ],
 "metadata": {
  "kernelspec": {
   "display_name": "Python 3",
   "language": "python",
   "name": "python3"
  },
  "language_info": {
   "codemirror_mode": {
    "name": "ipython",
    "version": 3
   },
   "file_extension": ".py",
   "mimetype": "text/x-python",
   "name": "python",
   "nbconvert_exporter": "python",
   "pygments_lexer": "ipython3",
   "version": "3.10.13"
  }
 },
 "nbformat": 4,
 "nbformat_minor": 2
}
